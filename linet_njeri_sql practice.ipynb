{
  "nbformat": 4,
  "nbformat_minor": 0,
  "metadata": {
    "colab": {
      "provenance": [],
      "include_colab_link": true
    },
    "kernelspec": {
      "name": "python3",
      "display_name": "Python 3"
    },
    "language_info": {
      "name": "python"
    }
  },
  "cells": [
    {
      "cell_type": "markdown",
      "metadata": {
        "id": "view-in-github",
        "colab_type": "text"
      },
      "source": [
        "<a href=\"https://colab.research.google.com/github/MsNjeri-Wanjiru/MsNjeri-Wanjiru/blob/main/linet_njeri_sql%20practice.ipynb\" target=\"_parent\"><img src=\"https://colab.research.google.com/assets/colab-badge.svg\" alt=\"Open In Colab\"/></a>"
      ]
    },
    {
      "cell_type": "code",
      "execution_count": null,
      "metadata": {
        "colab": {
          "base_uri": "https://localhost:8080/",
          "height": 71
        },
        "id": "qOD5SJ4FQajR",
        "outputId": "e8fc5358-3bfa-424c-ee83-60e4cbda5bd4"
      },
      "outputs": [
        {
          "output_type": "display_data",
          "data": {
            "text/plain": [
              "<IPython.core.display.HTML object>"
            ],
            "text/html": [
              "\n",
              "     <input type=\"file\" id=\"files-70ca8067-7c12-4a91-9d5f-89709a6969b4\" name=\"files[]\" multiple disabled\n",
              "        style=\"border:none\" />\n",
              "     <output id=\"result-70ca8067-7c12-4a91-9d5f-89709a6969b4\">\n",
              "      Upload widget is only available when the cell has been executed in the\n",
              "      current browser session. Please rerun this cell to enable.\n",
              "      </output>\n",
              "      <script>// Copyright 2017 Google LLC\n",
              "//\n",
              "// Licensed under the Apache License, Version 2.0 (the \"License\");\n",
              "// you may not use this file except in compliance with the License.\n",
              "// You may obtain a copy of the License at\n",
              "//\n",
              "//      http://www.apache.org/licenses/LICENSE-2.0\n",
              "//\n",
              "// Unless required by applicable law or agreed to in writing, software\n",
              "// distributed under the License is distributed on an \"AS IS\" BASIS,\n",
              "// WITHOUT WARRANTIES OR CONDITIONS OF ANY KIND, either express or implied.\n",
              "// See the License for the specific language governing permissions and\n",
              "// limitations under the License.\n",
              "\n",
              "/**\n",
              " * @fileoverview Helpers for google.colab Python module.\n",
              " */\n",
              "(function(scope) {\n",
              "function span(text, styleAttributes = {}) {\n",
              "  const element = document.createElement('span');\n",
              "  element.textContent = text;\n",
              "  for (const key of Object.keys(styleAttributes)) {\n",
              "    element.style[key] = styleAttributes[key];\n",
              "  }\n",
              "  return element;\n",
              "}\n",
              "\n",
              "// Max number of bytes which will be uploaded at a time.\n",
              "const MAX_PAYLOAD_SIZE = 100 * 1024;\n",
              "\n",
              "function _uploadFiles(inputId, outputId) {\n",
              "  const steps = uploadFilesStep(inputId, outputId);\n",
              "  const outputElement = document.getElementById(outputId);\n",
              "  // Cache steps on the outputElement to make it available for the next call\n",
              "  // to uploadFilesContinue from Python.\n",
              "  outputElement.steps = steps;\n",
              "\n",
              "  return _uploadFilesContinue(outputId);\n",
              "}\n",
              "\n",
              "// This is roughly an async generator (not supported in the browser yet),\n",
              "// where there are multiple asynchronous steps and the Python side is going\n",
              "// to poll for completion of each step.\n",
              "// This uses a Promise to block the python side on completion of each step,\n",
              "// then passes the result of the previous step as the input to the next step.\n",
              "function _uploadFilesContinue(outputId) {\n",
              "  const outputElement = document.getElementById(outputId);\n",
              "  const steps = outputElement.steps;\n",
              "\n",
              "  const next = steps.next(outputElement.lastPromiseValue);\n",
              "  return Promise.resolve(next.value.promise).then((value) => {\n",
              "    // Cache the last promise value to make it available to the next\n",
              "    // step of the generator.\n",
              "    outputElement.lastPromiseValue = value;\n",
              "    return next.value.response;\n",
              "  });\n",
              "}\n",
              "\n",
              "/**\n",
              " * Generator function which is called between each async step of the upload\n",
              " * process.\n",
              " * @param {string} inputId Element ID of the input file picker element.\n",
              " * @param {string} outputId Element ID of the output display.\n",
              " * @return {!Iterable<!Object>} Iterable of next steps.\n",
              " */\n",
              "function* uploadFilesStep(inputId, outputId) {\n",
              "  const inputElement = document.getElementById(inputId);\n",
              "  inputElement.disabled = false;\n",
              "\n",
              "  const outputElement = document.getElementById(outputId);\n",
              "  outputElement.innerHTML = '';\n",
              "\n",
              "  const pickedPromise = new Promise((resolve) => {\n",
              "    inputElement.addEventListener('change', (e) => {\n",
              "      resolve(e.target.files);\n",
              "    });\n",
              "  });\n",
              "\n",
              "  const cancel = document.createElement('button');\n",
              "  inputElement.parentElement.appendChild(cancel);\n",
              "  cancel.textContent = 'Cancel upload';\n",
              "  const cancelPromise = new Promise((resolve) => {\n",
              "    cancel.onclick = () => {\n",
              "      resolve(null);\n",
              "    };\n",
              "  });\n",
              "\n",
              "  // Wait for the user to pick the files.\n",
              "  const files = yield {\n",
              "    promise: Promise.race([pickedPromise, cancelPromise]),\n",
              "    response: {\n",
              "      action: 'starting',\n",
              "    }\n",
              "  };\n",
              "\n",
              "  cancel.remove();\n",
              "\n",
              "  // Disable the input element since further picks are not allowed.\n",
              "  inputElement.disabled = true;\n",
              "\n",
              "  if (!files) {\n",
              "    return {\n",
              "      response: {\n",
              "        action: 'complete',\n",
              "      }\n",
              "    };\n",
              "  }\n",
              "\n",
              "  for (const file of files) {\n",
              "    const li = document.createElement('li');\n",
              "    li.append(span(file.name, {fontWeight: 'bold'}));\n",
              "    li.append(span(\n",
              "        `(${file.type || 'n/a'}) - ${file.size} bytes, ` +\n",
              "        `last modified: ${\n",
              "            file.lastModifiedDate ? file.lastModifiedDate.toLocaleDateString() :\n",
              "                                    'n/a'} - `));\n",
              "    const percent = span('0% done');\n",
              "    li.appendChild(percent);\n",
              "\n",
              "    outputElement.appendChild(li);\n",
              "\n",
              "    const fileDataPromise = new Promise((resolve) => {\n",
              "      const reader = new FileReader();\n",
              "      reader.onload = (e) => {\n",
              "        resolve(e.target.result);\n",
              "      };\n",
              "      reader.readAsArrayBuffer(file);\n",
              "    });\n",
              "    // Wait for the data to be ready.\n",
              "    let fileData = yield {\n",
              "      promise: fileDataPromise,\n",
              "      response: {\n",
              "        action: 'continue',\n",
              "      }\n",
              "    };\n",
              "\n",
              "    // Use a chunked sending to avoid message size limits. See b/62115660.\n",
              "    let position = 0;\n",
              "    do {\n",
              "      const length = Math.min(fileData.byteLength - position, MAX_PAYLOAD_SIZE);\n",
              "      const chunk = new Uint8Array(fileData, position, length);\n",
              "      position += length;\n",
              "\n",
              "      const base64 = btoa(String.fromCharCode.apply(null, chunk));\n",
              "      yield {\n",
              "        response: {\n",
              "          action: 'append',\n",
              "          file: file.name,\n",
              "          data: base64,\n",
              "        },\n",
              "      };\n",
              "\n",
              "      let percentDone = fileData.byteLength === 0 ?\n",
              "          100 :\n",
              "          Math.round((position / fileData.byteLength) * 100);\n",
              "      percent.textContent = `${percentDone}% done`;\n",
              "\n",
              "    } while (position < fileData.byteLength);\n",
              "  }\n",
              "\n",
              "  // All done.\n",
              "  yield {\n",
              "    response: {\n",
              "      action: 'complete',\n",
              "    }\n",
              "  };\n",
              "}\n",
              "\n",
              "scope.google = scope.google || {};\n",
              "scope.google.colab = scope.google.colab || {};\n",
              "scope.google.colab._files = {\n",
              "  _uploadFiles,\n",
              "  _uploadFilesContinue,\n",
              "};\n",
              "})(self);\n",
              "</script> "
            ]
          },
          "metadata": {}
        },
        {
          "output_type": "stream",
          "name": "stdout",
          "text": [
            "Saving demoDb1.db to demoDb1.db\n"
          ]
        }
      ],
      "source": [
        "from google.colab import files\n",
        "upload = files.upload()"
      ]
    },
    {
      "cell_type": "code",
      "source": [
        "#import the module to interact with sqlite databse\n",
        "import sqlite3\n",
        "\n",
        "#connect to the slite database\n",
        "conn = sqlite3.connect('demoDb1.db')\n",
        "\n",
        "#create cursor object to interact with the database\n",
        "cursor = conn.cursor()"
      ],
      "metadata": {
        "id": "jt4X3ZeERRx5"
      },
      "execution_count": null,
      "outputs": []
    },
    {
      "cell_type": "code",
      "source": [
        "#query to list all tables in the database\n",
        "list = \"SELECT name FROM sqlite_master WHERE type='table';\"\n",
        "cursor.execute(list)\n",
        "tables = cursor.fetchall()\n",
        "print(\"TABLES IN THE DATABASE:\")\n",
        "for table in tables:\n",
        "  print(table)"
      ],
      "metadata": {
        "colab": {
          "base_uri": "https://localhost:8080/"
        },
        "id": "7stq9kigRcWt",
        "outputId": "e561afdf-480a-4f86-ee2d-873471d852c1"
      },
      "execution_count": null,
      "outputs": [
        {
          "output_type": "stream",
          "name": "stdout",
          "text": [
            "TABLES IN THE DATABASE:\n",
            "('sqlite_sequence',)\n",
            "('attendance_tbl',)\n",
            "('class_tbl',)\n",
            "('Department',)\n",
            "('Employee',)\n",
            "('Employee_backup',)\n",
            "('students_tbl',)\n"
          ]
        }
      ]
    },
    {
      "cell_type": "code",
      "source": [
        "#Example sql queries\n",
        "queries = {\n",
        "    \"filter_employees_age\":\"SELECT * FROM Employee WHERE age>30;\",\n",
        "    \"sort_employees_by_age\":\"SELECT * FROM Employee ORDER BY age ASC\",\n",
        "    \"group_students_by_class\": \"SELECT class_id, COUNT(id) AS Number_of_student from students_tbl GROUP BY class_id\",\n",
        "    \"combine_employee_department\":\"\"\"\n",
        "        SELECT e.name AS employee_name, e.gender, d.dept_name\n",
        "        FROM Employee AS e\n",
        "        JOIN Department AS d ON d.employee_id = e.employee_id\n",
        "\n",
        "     \"\"\"\n",
        "}\n",
        "\n",
        "#execute the queries and fetch results\n",
        "def execute_query(queries):\n",
        "  cursor.execute(queries)\n",
        "  return cursor.fetchall()"
      ],
      "metadata": {
        "id": "s0HKte9zTzvl"
      },
      "execution_count": null,
      "outputs": []
    },
    {
      "cell_type": "code",
      "source": [
        "#filtering data\n",
        "filter_employees_age = execute_query(queries[\"filter_employees_age\"])\n",
        "filter_employees_age"
      ],
      "metadata": {
        "colab": {
          "base_uri": "https://localhost:8080/"
        },
        "id": "R1zeeoAcYmnb",
        "outputId": "d8a07b43-0e9f-494e-f848-b4d34690381d"
      },
      "execution_count": null,
      "outputs": [
        {
          "output_type": "execute_result",
          "data": {
            "text/plain": [
              "[(3, 1003, 'Alice', 'Johnson', 'Alice Johnson', 'Female', 'Mombasa', 35),\n",
              " (5, 1005, 'Emma', 'Williams', 'Emma Williams', 'Female', 'Phoenix', 32),\n",
              " (7, 1007, 'David', 'Miller', 'David Miller', 'Male', 'San Antonio', 40),\n",
              " (9, 1009, 'Daniel', 'Moore', 'Daniel Moore', 'Male', 'Dallas', 34),\n",
              " (11, 1011, 'Liam', 'Johnson', 'Liam Johnson', 'Male', 'Boston', 31)]"
            ]
          },
          "metadata": {},
          "execution_count": 5
        }
      ]
    },
    {
      "cell_type": "code",
      "source": [
        "#Sorting DATA\n",
        "sort_employees_by_age = execute_query(queries[\"sort_employees_by_age\"])\n",
        "sort_employees_by_age"
      ],
      "metadata": {
        "colab": {
          "base_uri": "https://localhost:8080/"
        },
        "id": "ScoINBxLZV3J",
        "outputId": "32f29b14-e35d-4445-fbf3-350fdabec310"
      },
      "execution_count": null,
      "outputs": [
        {
          "output_type": "execute_result",
          "data": {
            "text/plain": [
              "[(8, 1008, 'Sophia', 'Wilson', 'Sophia Wilson', 'Female', 'San Diego', 22),\n",
              " (2, 1002, 'Jane', 'Smith', 'Jane Smith', 'Female', 'Los Angeles', 25),\n",
              " (10, 1010, 'Olivia', 'Taylor', 'Olivia Taylor', 'Female', 'San Jose', 27),\n",
              " (4, 1004, 'Bob', 'Brown', 'Bob Brown', 'Male', 'Houston', 28),\n",
              " (6, 1006, 'Chris', 'Davis', 'Chris Davis', 'Male', 'Philadelphia', 29),\n",
              " (1, 1001, 'John', 'Doe', 'John Doe', 'Male', 'Nairobi', 30),\n",
              " (11, 1011, 'Liam', 'Johnson', 'Liam Johnson', 'Male', 'Boston', 31),\n",
              " (5, 1005, 'Emma', 'Williams', 'Emma Williams', 'Female', 'Phoenix', 32),\n",
              " (9, 1009, 'Daniel', 'Moore', 'Daniel Moore', 'Male', 'Dallas', 34),\n",
              " (3, 1003, 'Alice', 'Johnson', 'Alice Johnson', 'Female', 'Mombasa', 35),\n",
              " (7, 1007, 'David', 'Miller', 'David Miller', 'Male', 'San Antonio', 40)]"
            ]
          },
          "metadata": {},
          "execution_count": 6
        }
      ]
    },
    {
      "cell_type": "code",
      "source": [
        "#GROUPING DATA\n",
        "group_students_by_class = execute_query(queries[\"group_students_by_class\"])\n",
        "group_students_by_class"
      ],
      "metadata": {
        "colab": {
          "base_uri": "https://localhost:8080/"
        },
        "id": "2H_HpoHlZ2Hr",
        "outputId": "ae1add56-2fb0-459c-be2b-68302ae32113"
      },
      "execution_count": null,
      "outputs": [
        {
          "output_type": "execute_result",
          "data": {
            "text/plain": [
              "[(1, 5), (2, 2), (3, 2), (4, 1), (6, 1), (7, 1), (8, 1), (9, 1), (10, 1)]"
            ]
          },
          "metadata": {},
          "execution_count": 7
        }
      ]
    },
    {
      "cell_type": "code",
      "source": [
        "#combining data\n",
        "combine_employee_department = execute_query(queries[\"combine_employee_department\"])\n",
        "combine_employee_department"
      ],
      "metadata": {
        "colab": {
          "base_uri": "https://localhost:8080/"
        },
        "id": "QciYnIjKaklo",
        "outputId": "42ce721b-842b-4962-e732-ba3b04373dee"
      },
      "execution_count": null,
      "outputs": [
        {
          "output_type": "execute_result",
          "data": {
            "text/plain": [
              "[('John Doe', 'Male', 'HR'),\n",
              " ('Jane Smith', 'Female', 'Finance'),\n",
              " ('Alice Johnson', 'Female', 'IT'),\n",
              " ('Bob Brown', 'Male', 'Marketing'),\n",
              " ('Emma Williams', 'Female', 'HR'),\n",
              " ('Chris Davis', 'Male', 'Marketing'),\n",
              " ('David Miller', 'Male', 'Marketing'),\n",
              " ('Sophia Wilson', 'Female', 'HR'),\n",
              " ('Daniel Moore', 'Male', 'IT'),\n",
              " ('Olivia Taylor', 'Female', 'IT'),\n",
              " ('Liam Johnson', 'Male', 'Finance')]"
            ]
          },
          "metadata": {},
          "execution_count": 13
        }
      ]
    }
  ]
}