{
  "nbformat": 4,
  "nbformat_minor": 0,
  "metadata": {
    "colab": {
      "provenance": [],
      "authorship_tag": "ABX9TyOrG8ZF1fauBJYSwKlu/Bez",
      "include_colab_link": true
    },
    "kernelspec": {
      "name": "python3",
      "display_name": "Python 3"
    },
    "language_info": {
      "name": "python"
    }
  },
  "cells": [
    {
      "cell_type": "markdown",
      "metadata": {
        "id": "view-in-github",
        "colab_type": "text"
      },
      "source": [
        "<a href=\"https://colab.research.google.com/github/MsNjeri-Wanjiru/MsNjeri-Wanjiru/blob/main/linet_practise_10.ipynb\" target=\"_parent\"><img src=\"https://colab.research.google.com/assets/colab-badge.svg\" alt=\"Open In Colab\"/></a>"
      ]
    },
    {
      "cell_type": "code",
      "execution_count": null,
      "metadata": {
        "colab": {
          "base_uri": "https://localhost:8080/"
        },
        "id": "XYp-1-zDwTzU",
        "outputId": "f40966bb-bf62-4eb3-bb0b-98702aa95139"
      },
      "outputs": [
        {
          "output_type": "stream",
          "name": "stdout",
          "text": [
            "   customer_id  order_date  order_amount          stage signup_date\n",
            "0            2  2023-10-09         97.29        Visited  2023-06-02\n",
            "1            2  2023-08-12         84.92        Visited  2023-06-02\n",
            "2            2  2023-10-13         29.11        Visited  2023-06-02\n",
            "3            2  2023-12-03         52.73  Added to Cart  2023-06-02\n",
            "4            3  2023-06-02         57.23        Visited  2022-11-19\n"
          ]
        }
      ],
      "source": [
        "import pandas as pd\n",
        "import numpy as np\n",
        "import matplotlib.pyplot as plt\n",
        "import seaborn as sns\n",
        "import datetime as dt\n",
        "from sklearn.model_selection import train_test_split\n",
        "from sklearn.linear_model import LinearRegression\n",
        "from sklearn.metrics import mean_squared_error, r2_score\n",
        "\n",
        "#Load the dataset into Google Colab\n",
        "sales_data = pd.read_csv('/content/adjusted_sales_data.csv')\n",
        "print(sales_data.head())\n"
      ]
    },
    {
      "cell_type": "code",
      "source": [
        "#Check for missing values and handle them appropriatel\n",
        "missing_values = sales_data.isnull().sum()\n",
        "print(missing_values)\n"
      ],
      "metadata": {
        "colab": {
          "base_uri": "https://localhost:8080/"
        },
        "id": "SEjQdMSWH9z_",
        "outputId": "88040b6f-e230-4cb5-89dd-41b4b1d96bd0"
      },
      "execution_count": null,
      "outputs": [
        {
          "output_type": "stream",
          "name": "stdout",
          "text": [
            "customer_id     0\n",
            "order_date      0\n",
            "order_amount    0\n",
            "stage           0\n",
            "signup_date     0\n",
            "dtype: int64\n"
          ]
        }
      ]
    },
    {
      "cell_type": "code",
      "source": [
        "#Remove rows with missing values\n",
        "sales_data.drop(['Unnamed: 0','Customer_id'],axis=1,inplace=True,errors='ignore')\n",
        "print(sales_data.head())"
      ],
      "metadata": {
        "colab": {
          "base_uri": "https://localhost:8080/"
        },
        "id": "kkCFAgkjH_KM",
        "outputId": "728e51be-2066-4642-e140-8c753126baf6"
      },
      "execution_count": null,
      "outputs": [
        {
          "output_type": "stream",
          "name": "stdout",
          "text": [
            "   customer_id  order_date  order_amount          stage signup_date\n",
            "0            2  2023-10-09         97.29        Visited  2023-06-02\n",
            "1            2  2023-08-12         84.92        Visited  2023-06-02\n",
            "2            2  2023-10-13         29.11        Visited  2023-06-02\n",
            "3            2  2023-12-03         52.73  Added to Cart  2023-06-02\n",
            "4            3  2023-06-02         57.23        Visited  2022-11-19\n"
          ]
        }
      ]
    },
    {
      "cell_type": "code",
      "source": [
        "#Convert date columns to the datetime format.\n",
        "sales_data['order_date'] = pd.to_datetime(sales_data['order_date'])\n",
        "sales_data['Month'] = sales_data['order_date'].dt.month\n",
        "sales_data['Year'] = sales_data['order_date'].dt.year\n",
        "\n",
        "print (sales_data.info())"
      ],
      "metadata": {
        "id": "u7TAUq8NycdL",
        "colab": {
          "base_uri": "https://localhost:8080/"
        },
        "outputId": "085cb506-7262-413e-ef88-2f9bcd8f76df"
      },
      "execution_count": null,
      "outputs": [
        {
          "output_type": "stream",
          "name": "stdout",
          "text": [
            "<class 'pandas.core.frame.DataFrame'>\n",
            "RangeIndex: 27988 entries, 0 to 27987\n",
            "Data columns (total 7 columns):\n",
            " #   Column        Non-Null Count  Dtype         \n",
            "---  ------        --------------  -----         \n",
            " 0   customer_id   27988 non-null  int64         \n",
            " 1   order_date    27988 non-null  datetime64[ns]\n",
            " 2   order_amount  27988 non-null  float64       \n",
            " 3   stage         27988 non-null  object        \n",
            " 4   signup_date   27988 non-null  object        \n",
            " 5   Month         27988 non-null  int32         \n",
            " 6   Year          27988 non-null  int32         \n",
            "dtypes: datetime64[ns](1), float64(1), int32(2), int64(1), object(2)\n",
            "memory usage: 1.3+ MB\n",
            "None\n"
          ]
        }
      ]
    },
    {
      "cell_type": "code",
      "source": [
        "#Check for customers at each stage\n",
        "#Grouping the data at each stage\n",
        "tage_counts = sales_data.groupby('stage').value_counts()\n",
        "Visited = sales_data[sales_data['stage']=='Visited']\n",
        "Added_to_Cart = sales_data[sales_data['stage']=='Added to Cart']\n",
        "Checked_out = sales_data[sales_data['stage']=='Checked out']\n",
        "Purchased = sales_data[sales_data['stage']=='Purchased']\n",
        "\n",
        "print('Visited:',len(Visited))\n",
        "print('Added_to_Cart',len(Added_to_Cart))\n",
        "print('Checked_out',len(Checked_out))\n",
        "print('Purchased',len(Purchased))"
      ],
      "metadata": {
        "colab": {
          "base_uri": "https://localhost:8080/"
        },
        "id": "91WZ6AYbKnuP",
        "outputId": "447d9700-b72a-40d1-ab73-ec0383787669"
      },
      "execution_count": null,
      "outputs": [
        {
          "output_type": "stream",
          "name": "stdout",
          "text": [
            "Visited: 20175\n",
            "Added_to_Cart 7642\n",
            "Checked_out 0\n",
            "Purchased 171\n"
          ]
        }
      ]
    },
    {
      "cell_type": "code",
      "source": [
        "#Construct the sales funnel for all customers based on stages: Visited, Added to Cart, Purchased.\n",
        "sales_funnel = sales_data.groupby(['customer_id', 'stage']).size().unstack(fill_value=0)\n",
        "print(sales_funnel)\n",
        "\n"
      ],
      "metadata": {
        "colab": {
          "base_uri": "https://localhost:8080/"
        },
        "id": "h48P_tFA1R2B",
        "outputId": "6d0c957a-93d2-4623-85dc-a7b12799b0d6"
      },
      "execution_count": null,
      "outputs": [
        {
          "output_type": "stream",
          "name": "stdout",
          "text": [
            "stage        Added to Cart  Purchased  Visited\n",
            "customer_id                                   \n",
            "2                        1          0        3\n",
            "3                        0          0        1\n",
            "4                        0          0        1\n",
            "5                        0          0        1\n",
            "6                        1          0        2\n",
            "...                    ...        ...      ...\n",
            "9995                     1          0        3\n",
            "9996                     1          0        2\n",
            "9997                     0          0        1\n",
            "9998                     0          0        1\n",
            "10000                    0          0        1\n",
            "\n",
            "[8682 rows x 3 columns]\n"
          ]
        }
      ]
    },
    {
      "cell_type": "code",
      "source": [
        "#Calculate the conversion rate at each stage of the funne\n",
        "conversion_rate = sales_funnel.div(sales_funnel.sum(axis=1), axis=0)\n",
        "print(conversion_rate)"
      ],
      "metadata": {
        "colab": {
          "base_uri": "https://localhost:8080/"
        },
        "id": "IFMtMdrjGd8F",
        "outputId": "af012731-c523-4cb5-a543-59abc40196cf"
      },
      "execution_count": null,
      "outputs": [
        {
          "output_type": "stream",
          "name": "stdout",
          "text": [
            "stage        Added to Cart  Purchased   Visited\n",
            "customer_id                                    \n",
            "2                 0.250000        0.0  0.750000\n",
            "3                 0.000000        0.0  1.000000\n",
            "4                 0.000000        0.0  1.000000\n",
            "5                 0.000000        0.0  1.000000\n",
            "6                 0.333333        0.0  0.666667\n",
            "...                    ...        ...       ...\n",
            "9995              0.250000        0.0  0.750000\n",
            "9996              0.333333        0.0  0.666667\n",
            "9997              0.000000        0.0  1.000000\n",
            "9998              0.000000        0.0  1.000000\n",
            "10000             0.000000        0.0  1.000000\n",
            "\n",
            "[8682 rows x 3 columns]\n"
          ]
        }
      ]
    },
    {
      "cell_type": "code",
      "source": [
        "conversion_Visited_to_Cart = (len(Added_to_Cart) / len(Visited)) * 100\n",
        "conversion_Cart_to_Purchased = (len(Purchased) / len(Added_to_Cart)) * 100\n",
        "\n",
        "print('Conversion rate from Visited to Added to Cart:', conversion_Visited_to_Cart, '%')\n",
        "print('Conversion rate from Added to Cart to Purchased:', conversion_Cart_to_Purchased, '%')"
      ],
      "metadata": {
        "colab": {
          "base_uri": "https://localhost:8080/"
        },
        "id": "Klpw2sFmNsZK",
        "outputId": "e0fd0c9a-fc41-42a1-950d-fbee95526732"
      },
      "execution_count": null,
      "outputs": [
        {
          "output_type": "stream",
          "name": "stdout",
          "text": [
            "Conversion rate from Visited to Added to Cart: 37.87856257744733 %\n",
            "Conversion rate from Added to Cart to Purchased: 2.2376341271918347 %\n"
          ]
        }
      ]
    },
    {
      "cell_type": "code",
      "source": [
        "# Provide recommendations to improve conversion rates at each stage of the sales\n",
        "# funnel based on the analysis"
      ],
      "metadata": {
        "id": "zcLnRBUW1qi9"
      },
      "execution_count": null,
      "outputs": []
    },
    {
      "cell_type": "markdown",
      "source": [
        "Provide recommendations to improve conversion rates at each stage of the sales\n",
        " funnel based on the analysis\n",
        "#increase from visited to cart\n",
        "\n",
        " -improve user experience, things like userbility of website\n",
        "-check customer feedback\n",
        "--offer discounts and promotions\n",
        "#Increase from cart to purchased\n",
        "-Simplify  checkout process.\n",
        "-have wide variety of products.\n",
        "=have wide variety of payments modes.\n",
        "-reduce delivery time.\n",
        "-increase customer engagement and satisfaction\n",
        "-set aside a team for follow ups\n",
        "#increasing overall funnel efficiency\n",
        " -customer support by adding a live chat\n",
        "-have a different targeted campaigns\n",
        "-add discounts offers\n"
      ],
      "metadata": {
        "id": "IE9d0axNOLcA"
      }
    },
    {
      "cell_type": "markdown",
      "source": [],
      "metadata": {
        "id": "DyzUPLLOOTHG"
      }
    }
  ]
}